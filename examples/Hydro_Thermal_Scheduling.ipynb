{
 "cells": [
  {
   "cell_type": "markdown",
   "metadata": {},
   "source": [
    "In this tutorial, we show how to run the [FAST tutorial example](https://web.stanford.edu/~lcambier/fast/tuto.php) using this package.\n",
    "The big difference between this example and the quickstart example is that in this example we will model serial independence.\n",
    "There will be 5 stages and 2 scenarios per stages except for the first stage which has only one scenario.\n",
    "Each pair of scenario will have the same parent.\n",
    "\n",
    "We start by setting the constants:"
   ]
  },
  {
   "cell_type": "code",
   "execution_count": 1,
   "metadata": {
    "collapsed": true
   },
   "outputs": [],
   "source": [
    "const num_stages = 5\n",
    "const numScen = 2\n",
    "const C = 5\n",
    "const V = 8\n",
    "const d = 6\n",
    "const r = [2, 10];"
   ]
  },
  {
   "cell_type": "markdown",
   "metadata": {},
   "source": [
    "We now create a matrix to store all the variables of all the models.\n",
    "This allows us to use the variables of other models from a given model.\n",
    "We also create an array of the first model of each stage to give play the role of parent for the models of the next stage."
   ]
  },
  {
   "cell_type": "code",
   "execution_count": 2,
   "metadata": {
    "collapsed": true
   },
   "outputs": [],
   "source": [
    "using StructJuMP\n",
    "x = Matrix{JuMP.Variable}(num_stages, numScen)\n",
    "y = Matrix{JuMP.Variable}(num_stages, numScen)\n",
    "p = Matrix{JuMP.Variable}(num_stages, numScen)\n",
    "models = Vector{JuMP.Model}(num_stages);"
   ]
  },
  {
   "cell_type": "markdown",
   "metadata": {},
   "source": [
    "Now, we create all the models.\n",
    "Note that each model declares that its parent is the first model (i.e. the model `ξ == 1`) of the previous stage.\n",
    "Hence if it is not the first model, it also declares that it has the same children than the first model of its stage.\n",
    "This is how serial independence is modeled in [StructJuMP](https://github.com/StructJuMP/StructJuMP.jl)."
   ]
  },
  {
   "cell_type": "code",
   "execution_count": 3,
   "metadata": {
    "collapsed": true
   },
   "outputs": [],
   "source": [
    "for s in 1:num_stages\n",
    "    for ξ in 1:(s == 1 ? 1 : numScen) # for the first stage there is only 1 scenario\n",
    "        if s == 1\n",
    "            model = StructuredModel(num_scenarios=numScen)\n",
    "        else\n",
    "            model = StructuredModel(parent=models[s-1], prob=1/2, same_children_as=(ξ == 1 ? nothing : models[s]), id=ξ, num_scenarios=(s == num_stages ? 0 : numScen))\n",
    "        end\n",
    "        x[s, ξ] = @variable(model, lowerbound=0, upperbound=V)\n",
    "        y[s, ξ] = @variable(model, lowerbound=0)\n",
    "        p[s, ξ] = @variable(model, lowerbound=0)\n",
    "        if s > 1\n",
    "            @constraint(model, x[s, ξ] <= x[s-1, 1] + r[ξ] - y[s, ξ])\n",
    "        else\n",
    "            @constraint(model, x[s, ξ] <= mean(r) - y[s, ξ])\n",
    "        end\n",
    "        @constraint(model, p[s, ξ] + y[s, ξ] >= d)\n",
    "        @objective(model, Min, C * p[s, ξ])\n",
    "        # models[s] contains the first model only\n",
    "        if ξ == 1\n",
    "            models[s] = model\n",
    "        end\n",
    "    end\n",
    "end"
   ]
  },
  {
   "cell_type": "markdown",
   "metadata": {},
   "source": [
    "We first need to pick an LP solver, see [here](http://www.juliaopt.org/) for a list of the available choices."
   ]
  },
  {
   "cell_type": "code",
   "execution_count": 4,
   "metadata": {
    "collapsed": true
   },
   "outputs": [],
   "source": [
    "using GLPKMathProgInterface\n",
    "solver = GLPKMathProgInterface.GLPKSolverLP();"
   ]
  },
  {
   "cell_type": "markdown",
   "metadata": {},
   "source": [
    "We now create the lattice, note that the master problem is `models[1]`."
   ]
  },
  {
   "cell_type": "code",
   "execution_count": 5,
   "metadata": {},
   "outputs": [],
   "source": [
    "using CutPruners\n",
    "const pruner = AvgCutPruningAlgo(-1)\n",
    "using StructDualDynProg\n",
    "const SOI = StructDualDynProg.StochOptInterface\n",
    "sp = SOI.stochasticprogram(models[1], num_stages, solver, pruner);"
   ]
  },
  {
   "cell_type": "markdown",
   "metadata": {},
   "source": [
    "The SDDP algorithm can now be run on the lattice:"
   ]
  },
  {
   "cell_type": "code",
   "execution_count": 6,
   "metadata": {},
   "outputs": [
    {
     "data": {
      "text/plain": [
       "StructDualDynProg.StochOptInterface.SolutionSummary(:Optimal, 23.75, [0.0, 6.0, 0.0], Dict{Any,Any}(Pair{Any,Any}(:stats, Lower Bound: 23.75\n",
       "Upper Bound: 24.375\n",
       "),Pair{Any,Any}(:nfcuts, 0),Pair{Any,Any}(:nocuts, 11),Pair{Any,Any}(:niter, 2)))"
      ]
     },
     "execution_count": 6,
     "metadata": {},
     "output_type": "execute_result"
    }
   ],
   "source": [
    "algo = StructDualDynProg.SDDP.Algorithm(K = 16)\n",
    "sol = SOI.optimize!(sp, algo, SOI.Pereira(2., 0.5) | SOI.IterLimit(10))"
   ]
  },
  {
   "cell_type": "code",
   "execution_count": null,
   "metadata": {
    "collapsed": true
   },
   "outputs": [],
   "source": []
  }
 ],
 "metadata": {
  "kernelspec": {
   "display_name": "Julia 0.6.3",
   "language": "julia",
   "name": "julia-0.6"
  },
  "language_info": {
   "file_extension": ".jl",
   "mimetype": "application/julia",
   "name": "julia",
   "version": "0.6.3"
  }
 },
 "nbformat": 4,
 "nbformat_minor": 2
}
