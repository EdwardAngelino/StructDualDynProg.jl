{
 "cells": [
  {
   "cell_type": "markdown",
   "metadata": {},
   "source": [
    "This example shows how to solve the [FAST quick start example](https://web.stanford.edu/~lcambier/fast/demo.php) using this package.\n",
    "We start by setting the different constants:"
   ]
  },
  {
   "cell_type": "code",
   "execution_count": 1,
   "metadata": {
    "collapsed": true
   },
   "outputs": [],
   "source": [
    "const num_stages = 2\n",
    "const numScen = 2\n",
    "const C = 1\n",
    "const P = 2\n",
    "const d = [2, 3];"
   ]
  },
  {
   "cell_type": "markdown",
   "metadata": {},
   "source": [
    "We now model the master problem using [StructJuMP](https://github.com/StructJuMP/StructJuMP.jl)."
   ]
  },
  {
   "cell_type": "code",
   "execution_count": 2,
   "metadata": {},
   "outputs": [
    {
     "name": "stderr",
     "output_type": "stream",
     "text": [
      "\u001b[1m\u001b[36mINFO: \u001b[39m\u001b[22m\u001b[36mRecompiling stale cache file /home/blegat/.julia/lib/v0.6/JuMP.ji for module JuMP.\n",
      "\u001b[39m\u001b[1m\u001b[36mINFO: \u001b[39m\u001b[22m\u001b[36mRecompiling stale cache file /home/blegat/.julia/lib/v0.6/StructJuMP.ji for module StructJuMP.\n",
      "\u001b[39m"
     ]
    }
   ],
   "source": [
    "using StructJuMP\n",
    "m1 = StructuredModel(num_scenarios=numScen)\n",
    "@variable(m1, x >= 0)\n",
    "@objective(m1, Min, C * x);"
   ]
  },
  {
   "cell_type": "markdown",
   "metadata": {},
   "source": [
    "For each of the two scenarios we need to create a [StructJuMP](https://github.com/StructJuMP/StructJuMP.jl) model specifying that `m1` is the parent and that the scenario has probability `1/2`."
   ]
  },
  {
   "cell_type": "code",
   "execution_count": 3,
   "metadata": {
    "collapsed": true
   },
   "outputs": [],
   "source": [
    "for ξ in 1:numScen\n",
    "    m2 = StructuredModel(parent=m1, prob=1/2, id=ξ)\n",
    "    @variable(m2, s >= 0)\n",
    "    @constraints m2 begin\n",
    "        s <= d[ξ]\n",
    "        s <= x\n",
    "    end\n",
    "    @objective(m2, Max, P * s)\n",
    "end"
   ]
  },
  {
   "cell_type": "markdown",
   "metadata": {},
   "source": [
    "We first need to pick an LP solver, see [here](http://www.juliaopt.org/) for a list of the available choices."
   ]
  },
  {
   "cell_type": "code",
   "execution_count": 4,
   "metadata": {
    "collapsed": true
   },
   "outputs": [],
   "source": [
    "using GLPKMathProgInterface\n",
    "solver = GLPKMathProgInterface.GLPKSolverLP();"
   ]
  },
  {
   "cell_type": "markdown",
   "metadata": {},
   "source": [
    "This structured model need to be transformed into an appropriate structure to run SDDP on it.\n",
    "This is achieved by `stochasticprogram`:"
   ]
  },
  {
   "cell_type": "code",
   "execution_count": 5,
   "metadata": {},
   "outputs": [
    {
     "name": "stderr",
     "output_type": "stream",
     "text": [
      "\u001b[1m\u001b[36mINFO: \u001b[39m\u001b[22m\u001b[36mRecompiling stale cache file /home/blegat/.julia/lib/v0.6/StructDualDynProg.ji for module StructDualDynProg.\n",
      "\u001b[39m"
     ]
    }
   ],
   "source": [
    "using CutPruners\n",
    "const pruner = AvgCutPruningAlgo(-1)\n",
    "using StructDualDynProg\n",
    "const SOI = StructDualDynProg.StochOptInterface\n",
    "sp = SOI.stochasticprogram(m1, num_stages, solver, pruner);"
   ]
  },
  {
   "cell_type": "markdown",
   "metadata": {},
   "source": [
    "We can now run the sddp algorithm on it using `SDDP`. We are using 2 forward paths per iteration and we stop either after 10 iterations or once the pereira criterion is satisfied with $\\alpha = 0.1$."
   ]
  },
  {
   "cell_type": "code",
   "execution_count": 6,
   "metadata": {},
   "outputs": [
    {
     "name": "stdout",
     "output_type": "stream",
     "text": [
      "Lower Bound: -2.0\n",
      "Upper Bound: -2.0\n",
      "\n",
      " \u001b[1m──────────────────────────────────────────────────────────────────────\u001b[22m\n",
      " \u001b[1m                      \u001b[22m        Time                   Allocations      \n",
      "                       ──────────────────────   ───────────────────────\n",
      "   Tot / % measured:        3.69s / 81.8%            102MiB / 83.1%    \n",
      "\n",
      " Section       ncalls     time   %tot     avg     alloc   %tot      avg\n",
      " ──────────────────────────────────────────────────────────────────────\n",
      " "
     ]
    },
    {
     "data": {
      "text/plain": []
     },
     "execution_count": 6,
     "metadata": {},
     "output_type": "execute_result"
    }
   ],
   "source": [
    "algo = StructDualDynProg.SDDP.Algorithm(K = 2)\n",
    "sol = SOI.optimize!(sp, algo, SOI.Pereira(0.1) | SOI.IterLimit(10))"
   ]
  },
  {
   "cell_type": "markdown",
   "metadata": {},
   "source": [
    "We can verify that the algorithm have found the right value by inspecting the solution:"
   ]
  },
  {
   "cell_type": "code",
   "execution_count": 7,
   "metadata": {},
   "outputs": [
    {
     "ename": "LoadError",
     "evalue": "\u001b[91mtype Info has no field objval\u001b[39m",
     "output_type": "error",
     "traceback": [
      "\u001b[91mtype Info has no field objval\u001b[39m",
      "",
      "Stacktrace:",
      " [1] \u001b[1mexecute_request\u001b[22m\u001b[22m\u001b[1m(\u001b[22m\u001b[22m::ZMQ.Socket, ::IJulia.Msg\u001b[1m)\u001b[22m\u001b[22m at \u001b[1m/home/blegat/.julia/v0.6/IJulia/src/execute_request.jl:180\u001b[22m\u001b[22m",
      " [2] \u001b[1m(::Compat.#inner#14{Array{Any,1},IJulia.#execute_request,Tuple{ZMQ.Socket,IJulia.Msg}})\u001b[22m\u001b[22m\u001b[1m(\u001b[22m\u001b[22m\u001b[1m)\u001b[22m\u001b[22m at \u001b[1m/home/blegat/.julia/v0.6/Compat/src/Compat.jl:332\u001b[22m\u001b[22m",
      " [3] \u001b[1meventloop\u001b[22m\u001b[22m\u001b[1m(\u001b[22m\u001b[22m::ZMQ.Socket\u001b[1m)\u001b[22m\u001b[22m at \u001b[1m/home/blegat/.julia/v0.6/IJulia/src/eventloop.jl:8\u001b[22m\u001b[22m",
      " [4] \u001b[1m(::IJulia.##15#18)\u001b[22m\u001b[22m\u001b[1m(\u001b[22m\u001b[22m\u001b[1m)\u001b[22m\u001b[22m at \u001b[1m./task.jl:335\u001b[22m\u001b[22m"
     ]
    },
    {
     "name": "stdout",
     "output_type": "stream",
     "text": [
      "iteration 1        1    2.78s  92.1%   2.78s   82.5MiB  97.0%  82.5MiB\n",
      "   solve            3    1.59s  52.8%   530ms   37.4MiB  44.0%  12.5MiB\n",
      "   ocuts            2    101ms  3.35%  50.6ms   3.99MiB  4.69%  2.00MiB\n",
      "   setx             2   9.34ms  0.31%  4.67ms    178KiB  0.20%  89.2KiB\n",
      "   merged           1   1.55μs  0.00%  1.55μs         -  0.00%        -\n",
      " iteration 2        1    176ms  5.83%   176ms    936KiB  1.07%   936KiB\n",
      "   solve            3    176ms  5.82%  58.5ms    892KiB  1.02%   297KiB\n",
      "   ocuts            2   28.6μs  0.00%  14.3μs   3.47KiB  0.00%  1.73KiB\n",
      "   setx             2   1.10μs  0.00%   551ns         -  0.00%        -\n",
      "   merged           1    825ns  0.00%   825ns         -  0.00%        -\n",
      " iteration 3        1   38.0ms  1.26%  38.0ms   1.05MiB  1.24%  1.05MiB\n",
      "   setx             2   9.76ms  0.32%  4.88ms    173KiB  0.20%  86.4KiB\n",
      "   solve            3    434μs  0.01%   145μs   74.4KiB  0.09%  24.8KiB\n",
      "   ocuts            1   36.4μs  0.00%  36.4μs   1.72KiB  0.00%  1.72KiB\n",
      "   merged           1    548ns  0.00%   548ns         -  0.00%        -\n",
      " iteration 4        1   25.0ms  0.83%  25.0ms    586KiB  0.67%   586KiB\n",
      "   setx             2   24.5ms  0.81%  12.3ms    508KiB  0.58%   254KiB\n",
      "   solve            3    389μs  0.01%   130μs   56.8KiB  0.07%  18.9KiB\n",
      "   merged           1    693ns  0.00%   693ns         -  0.00%        -\n",
      " \u001b[1m──────────────────────────────────────────────────────────────────────\u001b[22m\n"
     ]
    }
   ],
   "source": [
    "sol.objval"
   ]
  },
  {
   "cell_type": "code",
   "execution_count": null,
   "metadata": {
    "collapsed": true
   },
   "outputs": [],
   "source": []
  }
 ],
 "metadata": {
  "kernelspec": {
   "display_name": "Julia 0.6.3",
   "language": "julia",
   "name": "julia-0.6"
  },
  "language_info": {
   "file_extension": ".jl",
   "mimetype": "application/julia",
   "name": "julia",
   "version": "0.6.3"
  }
 },
 "nbformat": 4,
 "nbformat_minor": 2
}
